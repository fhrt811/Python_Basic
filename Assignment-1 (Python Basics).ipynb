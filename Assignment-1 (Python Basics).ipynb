{
 "cells": [
  {
   "cell_type": "raw",
   "id": "944ead0f",
   "metadata": {},
   "source": [
    "Q1: In the below elements which of them are values or an expression? eg:- values can be integer or string and expression will be mathematical operator."
   ]
  },
  {
   "cell_type": "raw",
   "id": "f7fafa26",
   "metadata": {},
   "source": [
    "Ans1:\n",
    "* - expression\n",
    "'hello' - value\n",
    "-87.8 - value\n",
    "- - expression\n",
    "/ - expression\n",
    "+ - expression\n",
    "6 - value"
   ]
  },
  {
   "cell_type": "raw",
   "id": "51bdb365",
   "metadata": {},
   "source": [
    "Q2: What is the difference between string and variable?"
   ]
  },
  {
   "cell_type": "raw",
   "id": "c2958d2d",
   "metadata": {},
   "source": [
    "Ans2: \n",
    "Variable is a symbol that is stored at a location and contains a known or unknown information which is referred to as value of that variable whereas string is a sequence or a collection of characters and has a fixed value, string can be stored as the value of a variable."
   ]
  },
  {
   "cell_type": "raw",
   "id": "ebc25106",
   "metadata": {},
   "source": [
    "Q3: Describe three different data types."
   ]
  },
  {
   "cell_type": "raw",
   "id": "35aba5da",
   "metadata": {},
   "source": [
    "Ans3:\n",
    "1) Integer(int): Integer is a whole number either it has negative, zero or positive value, for example: 3, 60, -34, 0 are integers\n",
    "2) Float(float): Float is also numeric data type but the float value includes the decimal points, for example: 2.78, 38.00, -23.77 are float numbers\n",
    "3) Boolean(bool): It is a data type which has two possible values which is intended to represent the two truth values of logic either 'True' or 'False'."
   ]
  },
  {
   "cell_type": "raw",
   "id": "783b0032",
   "metadata": {},
   "source": [
    "Q4:\n",
    "What is an expression made up of? What do all expressions do?"
   ]
  },
  {
   "cell_type": "raw",
   "id": "008af68e",
   "metadata": {},
   "source": [
    "Ans4:\n",
    "The combination of variable, constant values and operators is called an expression, the expressions produces a result as value after the interprtation."
   ]
  },
  {
   "cell_type": "raw",
   "id": "7f6ec803",
   "metadata": {},
   "source": [
    "Q5:\n",
    "This assignment statements, like spam=10. What is the difference between an expression and a statement?"
   ]
  },
  {
   "cell_type": "raw",
   "id": "cbe1e408",
   "metadata": {},
   "source": [
    "Ans5:\n",
    "The expressions produces a result as value after the interprtation whereas an instruction written in the source code and executed by the interpreter is called a statement in a programming language."
   ]
  },
  {
   "cell_type": "raw",
   "id": "799cdf7b",
   "metadata": {},
   "source": [
    "Q6:\n",
    "After the following code runs, what does the variable bacon contain?\n",
    "\n",
    "bacon = 22\n",
    "bacon + 1"
   ]
  },
  {
   "cell_type": "raw",
   "id": "51085b92",
   "metadata": {},
   "source": [
    "Ans6:\n",
    "The variable bacon will remains containing the same value 22, as the variable is not reassigned."
   ]
  },
  {
   "cell_type": "raw",
   "id": "f52ed4aa",
   "metadata": {},
   "source": [
    "Q7:\n",
    "What should the values of the following two terms be?\n",
    "\n",
    "'spam'+'spamspam'\n",
    "'spam'*3"
   ]
  },
  {
   "cell_type": "raw",
   "id": "69c2d62f",
   "metadata": {},
   "source": [
    "Ans7:\n",
    "Both the terms would have the same values:\n",
    "'spamspamspam'"
   ]
  },
  {
   "cell_type": "raw",
   "id": "ed187dcb",
   "metadata": {},
   "source": [
    "Q8:\n",
    "Why is eggs a valid variable name while 100 is invalid?"
   ]
  },
  {
   "cell_type": "raw",
   "id": "61c8cb23",
   "metadata": {},
   "source": [
    "Ans8:\n",
    "Because a variable name cannot start with a number."
   ]
  },
  {
   "cell_type": "raw",
   "id": "4bd00ba8",
   "metadata": {},
   "source": [
    "Q9:\n",
    "What three functions can be used to get the integer, floating-point number, or string version of a value?"
   ]
  },
  {
   "cell_type": "raw",
   "id": "3a6fc5d1",
   "metadata": {},
   "source": [
    "Ans9:\n",
    "int(), float(), and str() functions will evaluate to the integer, floating-point number, and string versions of the value respectively when parsed to them."
   ]
  },
  {
   "cell_type": "raw",
   "id": "e2454d5b",
   "metadata": {},
   "source": [
    "Q10:\n",
    "Why does this expression cause an error? How can you fix it?\n",
    "\n",
    "'I have eaten ' + 99 + ' burritos.'"
   ]
  },
  {
   "cell_type": "raw",
   "id": "9386a07e",
   "metadata": {},
   "source": [
    "Ans10:\n",
    "This expression cause error because the concatination is possible only between same data types.\n",
    "It can be fixed by changing the data type of 99 from integer to string like: 'I have eaten ' + '99' + ' burritos.' OR 'I have eaten ' + str(99) + ' burritos.'\n",
    "This will change the data type of 99 from integer to string."
   ]
  }
 ],
 "metadata": {
  "kernelspec": {
   "display_name": "Python 3 (ipykernel)",
   "language": "python",
   "name": "python3"
  },
  "language_info": {
   "codemirror_mode": {
    "name": "ipython",
    "version": 3
   },
   "file_extension": ".py",
   "mimetype": "text/x-python",
   "name": "python",
   "nbconvert_exporter": "python",
   "pygments_lexer": "ipython3",
   "version": "3.9.13"
  }
 },
 "nbformat": 4,
 "nbformat_minor": 5
}
